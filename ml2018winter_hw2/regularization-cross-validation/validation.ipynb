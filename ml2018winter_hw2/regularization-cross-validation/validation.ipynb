{
 "cells": [
  {
   "cell_type": "markdown",
   "metadata": {},
   "source": [
    "# Regularization and Cross-Validation\n",
    "*Complete and hand in this completed worksheet (including its outputs and any supporting code outside of the worksheet) with your assignment submission. Please check the pdf file for more details.*\n",
    "\n",
    "In this exercise you will:\n",
    "    \n",
    "- implement **Ridge Regression** to control overfitting\n",
    "- implement **Logistic Regression with regularization** to control overfitting \n",
    "- implement **Cross-Validation** to control overfitting"
   ]
  },
  {
   "cell_type": "code",
   "execution_count": null,
   "metadata": {},
   "outputs": [],
   "source": [
    "import scipy.io as sio\n",
    "import numpy as np\n",
    "import matplotlib.pyplot as plt\n",
    "%matplotlib inline\n",
    "\n",
    "%load_ext autoreload\n",
    "%autoreload 2"
   ]
  },
  {
   "cell_type": "code",
   "execution_count": null,
   "metadata": {},
   "outputs": [],
   "source": [
    "digit_train = sio.loadmat('digit_train')\n",
    "X = digit_train['X']\n",
    "y = digit_train['y']\n",
    "digit_test = sio.loadmat('digit_test')\n",
    "X_test = digit_test['X_test']\n",
    "y_test = digit_test['y_test']"
   ]
  },
  {
   "cell_type": "code",
   "execution_count": null,
   "metadata": {},
   "outputs": [],
   "source": [
    "def show_digit(fea):\n",
    "    plt.rcParams['figure.figsize'] = (10.0, 8.0)\n",
    "    idx = np.random.permutation(X.shape[1])\n",
    "    fea = fea[:, idx[:100]]\n",
    "    faceW = 28\n",
    "    faceH = 28\n",
    "    numPerLine = 20\n",
    "    ShowLine = 4\n",
    "    Y = np.zeros((faceH * ShowLine, faceW * numPerLine), dtype=np.float)\n",
    "    for i in range(ShowLine):\n",
    "        for j in range(numPerLine):\n",
    "            Y[i * faceH:(i + 1) * faceH, j * faceW:(j + 1) * faceW] = fea[:,i * numPerLine + j].reshape((faceH, faceW))            \n",
    "    plt.imshow(Y, cmap='gray')"
   ]
  },
  {
   "cell_type": "markdown",
   "metadata": {},
   "source": [
    "### Ridge Regression and LOOCV"
   ]
  },
  {
   "cell_type": "code",
   "execution_count": null,
   "metadata": {},
   "outputs": [],
   "source": [
    "show_digit(X)\n",
    "# Do feature normalization here\n",
    "# begin answer\n",
    "# end answer\n",
    "\n",
    "# Do LOOCV\n",
    "lmbdas = np.array([1e-3, 1e-2, 1e-1, 0, 1, 1e1, 1e2, 1e3])\n",
    "lmbda = 0\n",
    "E_val_min = float('inf')\n",
    "\n",
    "from ridge import ridge\n",
    "\n",
    "for i in range(len(lmbdas)):\n",
    "    E_val = 0\n",
    "    for j in range(X.shape[1]):\n",
    "        X_ = __  # take point j out of X\n",
    "        y_ = __ \n",
    "        w = ridge(X, y, lmbdas[i])\n",
    "        E_val = Eval + __\n",
    "\n",
    "    # Update lmbda according validation error\n",
    "    # begin answer\n",
    "    # end answer\n",
    "    \n",
    "# Compute training error\n",
    "\n",
    "# Do feature normalization to X_test, y_test\n",
    "# ...\n",
    "# Compute test error"
   ]
  },
  {
   "cell_type": "markdown",
   "metadata": {},
   "source": [
    "### Logistic Regression with Regularization\n",
    "Use the simlimar skeleton code above to implement it."
   ]
  },
  {
   "cell_type": "code",
   "execution_count": null,
   "metadata": {},
   "outputs": [],
   "source": [
    "from logistic_r import logistic_r\n",
    "\n",
    "lmbda = 0\n",
    "E_val_min = float('inf')\n",
    "for i in range(len(lmbdas)):\n",
    "    E_val = 0\n",
    "    for j in range(X.shape[1]):\n",
    "        X_ = __  # take point j out of X\n",
    "        y_ = __ \n",
    "        w = logistic_r(X, y, lmbdas[i])\n",
    "        E_val = Eval + __\n",
    "        \n",
    "    # Update lmbda according validation error\n",
    "    # begin answer\n",
    "    # end answer\n",
    "    \n",
    "# Compute training error\n",
    "\n",
    "\n",
    "# Compute test error"
   ]
  }
 ],
 "metadata": {
  "kernelspec": {
   "display_name": "Python 3",
   "language": "python",
   "name": "python3"
  },
  "language_info": {
   "codemirror_mode": {
    "name": "ipython",
    "version": 3
   },
   "file_extension": ".py",
   "mimetype": "text/x-python",
   "name": "python",
   "nbconvert_exporter": "python",
   "pygments_lexer": "ipython3",
   "version": "3.6.7"
  }
 },
 "nbformat": 4,
 "nbformat_minor": 2
}
