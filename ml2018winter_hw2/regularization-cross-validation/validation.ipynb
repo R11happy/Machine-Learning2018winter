{
 "cells": [
  {
   "cell_type": "markdown",
   "metadata": {},
   "source": [
    "# Regularization and Cross-Validation\n",
    "*Complete and hand in this completed worksheet (including its outputs and any supporting code outside of the worksheet) with your assignment submission. Please check the pdf file for more details.*\n",
    "\n",
    "In this exercise you will:\n",
    "    \n",
    "- implement **Ridge Regression** to control overfitting\n",
    "- implement **Logistic Regression with regularization** to control overfitting \n",
    "- implement **Cross-Validation** to control overfitting"
   ]
  },
  {
   "cell_type": "code",
   "execution_count": 1,
   "metadata": {},
   "outputs": [],
   "source": [
    "import scipy.io as sio\n",
    "import numpy as np\n",
    "import matplotlib.pyplot as plt\n",
    "%matplotlib inline\n",
    "\n",
    "%load_ext autoreload\n",
    "%autoreload 2"
   ]
  },
  {
   "cell_type": "code",
   "execution_count": 2,
   "metadata": {},
   "outputs": [],
   "source": [
    "digit_train = sio.loadmat('digit_train')\n",
    "X = digit_train['X']\n",
    "y = digit_train['y']\n",
    "digit_test = sio.loadmat('digit_test')\n",
    "X_test = digit_test['X_test']\n",
    "y_test = digit_test['y_test']"
   ]
  },
  {
   "cell_type": "code",
   "execution_count": 3,
   "metadata": {},
   "outputs": [],
   "source": [
    "def show_digit(fea):\n",
    "    plt.rcParams['figure.figsize'] = (10.0, 8.0)\n",
    "    idx = np.random.permutation(X.shape[1])\n",
    "    fea = fea[:, idx[:100]]\n",
    "    faceW = 28\n",
    "    faceH = 28\n",
    "    numPerLine = 20\n",
    "    ShowLine = 4\n",
    "    Y = np.zeros((faceH * ShowLine, faceW * numPerLine), dtype=np.float)\n",
    "    for i in range(ShowLine):\n",
    "        for j in range(numPerLine):\n",
    "            Y[i * faceH:(i + 1) * faceH, j * faceW:(j + 1) * faceW] = fea[:,i * numPerLine + j].reshape((faceH, faceW))            \n",
    "    plt.imshow(Y, cmap='gray')"
   ]
  },
  {
   "cell_type": "markdown",
   "metadata": {},
   "source": [
    "### Ridge Regression and LOOCV"
   ]
  },
  {
   "cell_type": "code",
   "execution_count": 38,
   "metadata": {},
   "outputs": [
    {
     "name": "stderr",
     "output_type": "stream",
     "text": [
      "/home/xushuai/anaconda3/lib/python3.6/site-packages/ipykernel_launcher.py:7: RuntimeWarning: invalid value encountered in true_divide\n",
      "  import sys\n"
     ]
    },
    {
     "name": "stdout",
     "output_type": "stream",
     "text": [
      "E_val:0.11   lmbda:0.001\n",
      "E_val:0.11   lmbda:0.01\n",
      "E_val:0.11   lmbda:0.1\n",
      "E_val:0.11   lmbda:0.0\n",
      "E_val:0.105   lmbda:1.0\n",
      "E_val:0.06   lmbda:10.0\n"
     ]
    },
    {
     "ename": "LinAlgError",
     "evalue": "SVD did not converge",
     "output_type": "error",
     "traceback": [
      "\u001b[0;31m---------------------------------------------------------------------------\u001b[0m",
      "\u001b[0;31mLinAlgError\u001b[0m                               Traceback (most recent call last)",
      "\u001b[0;32m<ipython-input-38-475052f33b53>\u001b[0m in \u001b[0;36m<module>\u001b[0;34m()\u001b[0m\n\u001b[1;32m     27\u001b[0m         \u001b[0mX_\u001b[0m \u001b[0;34m=\u001b[0m \u001b[0mnp\u001b[0m\u001b[0;34m.\u001b[0m\u001b[0mhstack\u001b[0m\u001b[0;34m(\u001b[0m\u001b[0;34m(\u001b[0m\u001b[0mX\u001b[0m\u001b[0;34m[\u001b[0m\u001b[0;34m:\u001b[0m\u001b[0;34m,\u001b[0m \u001b[0;34m:\u001b[0m\u001b[0mj\u001b[0m\u001b[0;34m]\u001b[0m\u001b[0;34m,\u001b[0m \u001b[0mX\u001b[0m\u001b[0;34m[\u001b[0m\u001b[0;34m:\u001b[0m\u001b[0;34m,\u001b[0m \u001b[0mj\u001b[0m\u001b[0;34m+\u001b[0m\u001b[0;36m1\u001b[0m\u001b[0;34m:\u001b[0m\u001b[0;34m]\u001b[0m\u001b[0;34m)\u001b[0m\u001b[0;34m)\u001b[0m  \u001b[0;31m# take point j out of X\u001b[0m\u001b[0;34m\u001b[0m\u001b[0m\n\u001b[1;32m     28\u001b[0m         \u001b[0my_\u001b[0m \u001b[0;34m=\u001b[0m \u001b[0mnp\u001b[0m\u001b[0;34m.\u001b[0m\u001b[0mhstack\u001b[0m\u001b[0;34m(\u001b[0m\u001b[0;34m(\u001b[0m\u001b[0my\u001b[0m\u001b[0;34m[\u001b[0m\u001b[0;36m0\u001b[0m\u001b[0;34m,\u001b[0m \u001b[0;34m:\u001b[0m\u001b[0mj\u001b[0m\u001b[0;34m]\u001b[0m\u001b[0;34m,\u001b[0m \u001b[0my\u001b[0m\u001b[0;34m[\u001b[0m\u001b[0;36m0\u001b[0m\u001b[0;34m,\u001b[0m \u001b[0mj\u001b[0m\u001b[0;34m+\u001b[0m\u001b[0;36m1\u001b[0m\u001b[0;34m:\u001b[0m\u001b[0;34m]\u001b[0m\u001b[0;34m)\u001b[0m\u001b[0;34m)\u001b[0m\u001b[0;34m\u001b[0m\u001b[0m\n\u001b[0;32m---> 29\u001b[0;31m         \u001b[0mw\u001b[0m \u001b[0;34m=\u001b[0m \u001b[0mridge\u001b[0m\u001b[0;34m(\u001b[0m\u001b[0mX_\u001b[0m\u001b[0;34m,\u001b[0m \u001b[0my_\u001b[0m\u001b[0;34m,\u001b[0m \u001b[0mlmbdas\u001b[0m\u001b[0;34m[\u001b[0m\u001b[0mi\u001b[0m\u001b[0;34m]\u001b[0m\u001b[0;34m)\u001b[0m\u001b[0;34m\u001b[0m\u001b[0m\n\u001b[0m\u001b[1;32m     30\u001b[0m         \u001b[0mX_val\u001b[0m \u001b[0;34m=\u001b[0m \u001b[0mnp\u001b[0m\u001b[0;34m.\u001b[0m\u001b[0mappend\u001b[0m\u001b[0;34m(\u001b[0m\u001b[0;36m1\u001b[0m\u001b[0;34m,\u001b[0m \u001b[0mX\u001b[0m\u001b[0;34m[\u001b[0m\u001b[0;34m:\u001b[0m\u001b[0;34m,\u001b[0m \u001b[0mj\u001b[0m\u001b[0;34m]\u001b[0m\u001b[0;34m)\u001b[0m\u001b[0;34m\u001b[0m\u001b[0m\n\u001b[1;32m     31\u001b[0m         \u001b[0my_val\u001b[0m \u001b[0;34m=\u001b[0m \u001b[0my\u001b[0m\u001b[0;34m[\u001b[0m\u001b[0;36m0\u001b[0m\u001b[0;34m,\u001b[0m \u001b[0mj\u001b[0m\u001b[0;34m]\u001b[0m\u001b[0;34m\u001b[0m\u001b[0m\n",
      "\u001b[0;32m~/pythonwork/ipynotebook/ml2018winter_hw2/regularization-cross-validation/ridge.py\u001b[0m in \u001b[0;36mridge\u001b[0;34m(X, y, lmbda)\u001b[0m\n\u001b[1;32m     19\u001b[0m     \u001b[0;31m# begin answer\u001b[0m\u001b[0;34m\u001b[0m\u001b[0;34m\u001b[0m\u001b[0m\n\u001b[1;32m     20\u001b[0m     \u001b[0mX_b\u001b[0m \u001b[0;34m=\u001b[0m \u001b[0mnp\u001b[0m\u001b[0;34m.\u001b[0m\u001b[0mvstack\u001b[0m\u001b[0;34m(\u001b[0m\u001b[0;34m(\u001b[0m\u001b[0mnp\u001b[0m\u001b[0;34m.\u001b[0m\u001b[0mones\u001b[0m\u001b[0;34m(\u001b[0m\u001b[0;34m(\u001b[0m\u001b[0;36m1\u001b[0m\u001b[0;34m,\u001b[0m \u001b[0mX\u001b[0m\u001b[0;34m.\u001b[0m\u001b[0mshape\u001b[0m\u001b[0;34m[\u001b[0m\u001b[0;36m1\u001b[0m\u001b[0;34m]\u001b[0m\u001b[0;34m)\u001b[0m\u001b[0;34m)\u001b[0m\u001b[0;34m,\u001b[0m \u001b[0mX\u001b[0m\u001b[0;34m)\u001b[0m\u001b[0;34m)\u001b[0m\u001b[0;34m\u001b[0m\u001b[0m\n\u001b[0;32m---> 21\u001b[0;31m     \u001b[0mw\u001b[0m \u001b[0;34m=\u001b[0m \u001b[0mnp\u001b[0m\u001b[0;34m.\u001b[0m\u001b[0mdot\u001b[0m\u001b[0;34m(\u001b[0m\u001b[0mnp\u001b[0m\u001b[0;34m.\u001b[0m\u001b[0mdot\u001b[0m\u001b[0;34m(\u001b[0m\u001b[0;34m(\u001b[0m\u001b[0mpinv\u001b[0m\u001b[0;34m(\u001b[0m\u001b[0mnp\u001b[0m\u001b[0;34m.\u001b[0m\u001b[0mdot\u001b[0m\u001b[0;34m(\u001b[0m\u001b[0mX_b\u001b[0m \u001b[0;34m,\u001b[0m\u001b[0mX_b\u001b[0m\u001b[0;34m.\u001b[0m\u001b[0mT\u001b[0m\u001b[0;34m)\u001b[0m \u001b[0;34m+\u001b[0m \u001b[0mlmbda\u001b[0m \u001b[0;34m*\u001b[0m \u001b[0mnp\u001b[0m\u001b[0;34m.\u001b[0m\u001b[0meye\u001b[0m\u001b[0;34m(\u001b[0m\u001b[0;34m(\u001b[0m\u001b[0mP\u001b[0m\u001b[0;34m+\u001b[0m\u001b[0;36m1\u001b[0m\u001b[0;34m)\u001b[0m\u001b[0;34m)\u001b[0m\u001b[0;34m)\u001b[0m\u001b[0;34m)\u001b[0m\u001b[0;34m,\u001b[0m \u001b[0mX_b\u001b[0m\u001b[0;34m)\u001b[0m\u001b[0;34m,\u001b[0m \u001b[0my\u001b[0m\u001b[0;34m.\u001b[0m\u001b[0mT\u001b[0m\u001b[0;34m)\u001b[0m\u001b[0;34m\u001b[0m\u001b[0m\n\u001b[0m\u001b[1;32m     22\u001b[0m     \u001b[0;31m# end answer\u001b[0m\u001b[0;34m\u001b[0m\u001b[0;34m\u001b[0m\u001b[0m\n\u001b[1;32m     23\u001b[0m     \u001b[0;32mreturn\u001b[0m \u001b[0mw\u001b[0m\u001b[0;34m\u001b[0m\u001b[0m\n",
      "\u001b[0;32m~/anaconda3/lib/python3.6/site-packages/numpy/linalg/linalg.py\u001b[0m in \u001b[0;36mpinv\u001b[0;34m(a, rcond)\u001b[0m\n\u001b[1;32m   1722\u001b[0m         \u001b[0;32mreturn\u001b[0m \u001b[0mwrap\u001b[0m\u001b[0;34m(\u001b[0m\u001b[0mres\u001b[0m\u001b[0;34m)\u001b[0m\u001b[0;34m\u001b[0m\u001b[0m\n\u001b[1;32m   1723\u001b[0m     \u001b[0ma\u001b[0m \u001b[0;34m=\u001b[0m \u001b[0ma\u001b[0m\u001b[0;34m.\u001b[0m\u001b[0mconjugate\u001b[0m\u001b[0;34m(\u001b[0m\u001b[0;34m)\u001b[0m\u001b[0;34m\u001b[0m\u001b[0m\n\u001b[0;32m-> 1724\u001b[0;31m     \u001b[0mu\u001b[0m\u001b[0;34m,\u001b[0m \u001b[0ms\u001b[0m\u001b[0;34m,\u001b[0m \u001b[0mvt\u001b[0m \u001b[0;34m=\u001b[0m \u001b[0msvd\u001b[0m\u001b[0;34m(\u001b[0m\u001b[0ma\u001b[0m\u001b[0;34m,\u001b[0m \u001b[0mfull_matrices\u001b[0m\u001b[0;34m=\u001b[0m\u001b[0;32mFalse\u001b[0m\u001b[0;34m)\u001b[0m\u001b[0;34m\u001b[0m\u001b[0m\n\u001b[0m\u001b[1;32m   1725\u001b[0m \u001b[0;34m\u001b[0m\u001b[0m\n\u001b[1;32m   1726\u001b[0m     \u001b[0;31m# discard small singular values\u001b[0m\u001b[0;34m\u001b[0m\u001b[0;34m\u001b[0m\u001b[0m\n",
      "\u001b[0;32m~/anaconda3/lib/python3.6/site-packages/numpy/linalg/linalg.py\u001b[0m in \u001b[0;36msvd\u001b[0;34m(a, full_matrices, compute_uv)\u001b[0m\n\u001b[1;32m   1442\u001b[0m \u001b[0;34m\u001b[0m\u001b[0m\n\u001b[1;32m   1443\u001b[0m         \u001b[0msignature\u001b[0m \u001b[0;34m=\u001b[0m \u001b[0;34m'D->DdD'\u001b[0m \u001b[0;32mif\u001b[0m \u001b[0misComplexType\u001b[0m\u001b[0;34m(\u001b[0m\u001b[0mt\u001b[0m\u001b[0;34m)\u001b[0m \u001b[0;32melse\u001b[0m \u001b[0;34m'd->ddd'\u001b[0m\u001b[0;34m\u001b[0m\u001b[0m\n\u001b[0;32m-> 1444\u001b[0;31m         \u001b[0mu\u001b[0m\u001b[0;34m,\u001b[0m \u001b[0ms\u001b[0m\u001b[0;34m,\u001b[0m \u001b[0mvh\u001b[0m \u001b[0;34m=\u001b[0m \u001b[0mgufunc\u001b[0m\u001b[0;34m(\u001b[0m\u001b[0ma\u001b[0m\u001b[0;34m,\u001b[0m \u001b[0msignature\u001b[0m\u001b[0;34m=\u001b[0m\u001b[0msignature\u001b[0m\u001b[0;34m,\u001b[0m \u001b[0mextobj\u001b[0m\u001b[0;34m=\u001b[0m\u001b[0mextobj\u001b[0m\u001b[0;34m)\u001b[0m\u001b[0;34m\u001b[0m\u001b[0m\n\u001b[0m\u001b[1;32m   1445\u001b[0m         \u001b[0mu\u001b[0m \u001b[0;34m=\u001b[0m \u001b[0mu\u001b[0m\u001b[0;34m.\u001b[0m\u001b[0mastype\u001b[0m\u001b[0;34m(\u001b[0m\u001b[0mresult_t\u001b[0m\u001b[0;34m,\u001b[0m \u001b[0mcopy\u001b[0m\u001b[0;34m=\u001b[0m\u001b[0;32mFalse\u001b[0m\u001b[0;34m)\u001b[0m\u001b[0;34m\u001b[0m\u001b[0m\n\u001b[1;32m   1446\u001b[0m         \u001b[0ms\u001b[0m \u001b[0;34m=\u001b[0m \u001b[0ms\u001b[0m\u001b[0;34m.\u001b[0m\u001b[0mastype\u001b[0m\u001b[0;34m(\u001b[0m\u001b[0m_realType\u001b[0m\u001b[0;34m(\u001b[0m\u001b[0mresult_t\u001b[0m\u001b[0;34m)\u001b[0m\u001b[0;34m,\u001b[0m \u001b[0mcopy\u001b[0m\u001b[0;34m=\u001b[0m\u001b[0;32mFalse\u001b[0m\u001b[0;34m)\u001b[0m\u001b[0;34m\u001b[0m\u001b[0m\n",
      "\u001b[0;32m~/anaconda3/lib/python3.6/site-packages/numpy/linalg/linalg.py\u001b[0m in \u001b[0;36m_raise_linalgerror_svd_nonconvergence\u001b[0;34m(err, flag)\u001b[0m\n\u001b[1;32m     96\u001b[0m \u001b[0;34m\u001b[0m\u001b[0m\n\u001b[1;32m     97\u001b[0m \u001b[0;32mdef\u001b[0m \u001b[0m_raise_linalgerror_svd_nonconvergence\u001b[0m\u001b[0;34m(\u001b[0m\u001b[0merr\u001b[0m\u001b[0;34m,\u001b[0m \u001b[0mflag\u001b[0m\u001b[0;34m)\u001b[0m\u001b[0;34m:\u001b[0m\u001b[0;34m\u001b[0m\u001b[0m\n\u001b[0;32m---> 98\u001b[0;31m     \u001b[0;32mraise\u001b[0m \u001b[0mLinAlgError\u001b[0m\u001b[0;34m(\u001b[0m\u001b[0;34m\"SVD did not converge\"\u001b[0m\u001b[0;34m)\u001b[0m\u001b[0;34m\u001b[0m\u001b[0m\n\u001b[0m\u001b[1;32m     99\u001b[0m \u001b[0;34m\u001b[0m\u001b[0m\n\u001b[1;32m    100\u001b[0m \u001b[0;32mdef\u001b[0m \u001b[0mget_linalg_error_extobj\u001b[0m\u001b[0;34m(\u001b[0m\u001b[0mcallback\u001b[0m\u001b[0;34m)\u001b[0m\u001b[0;34m:\u001b[0m\u001b[0;34m\u001b[0m\u001b[0m\n",
      "\u001b[0;31mLinAlgError\u001b[0m: SVD did not converge"
     ]
    },
    {
     "data": {
      "image/png": "[encoded data removed]",
      "text/plain": [
       "<matplotlib.figure.Figure at 0x7f0d86c513c8>"
      ]
     },
     "metadata": {},
     "output_type": "display_data"
    }
   ],
   "source": [
    "show_digit(X)\n",
    "# Do feature normalization here\n",
    "# begin answer\n",
    "# axis 等于几，相当于对其哪一维度进行压缩\n",
    "# 使用正则，那么必须先标准化\n",
    "X = X - np.mean(X, axis=1).reshape(X.shape[0], -1)\n",
    "X = X / np.std(X, axis=1).reshape(X.shape[0], -1)\n",
    "# 解决std为0，出现nan的问题\n",
    "where_are_nan = np.isnan(X)\n",
    "where_are_inf = np.isinf(X)\n",
    "X[where_are_nan] = 0\n",
    "X[where_are_inf] = 0\n",
    "N = X.shape[1]\n",
    "# show_digit(X)\n",
    "# end answer\n",
    "\n",
    "# Do LOOCV\n",
    "lmbdas = np.array([1e-3, 1e-2, 1e-1, 0, 1, 1e1, 1e2, 1e3])\n",
    "# lmbdas = np.array([0, 1])\n",
    "lmbda = 0\n",
    "E_val_min = float('inf')\n",
    "\n",
    "from ridge import ridge\n",
    "\n",
    "for i in range(len(lmbdas)):\n",
    "    E_val = 0\n",
    "    for j in range(X.shape[1]):\n",
    "        X_ = np.hstack((X[:, :j], X[:, j+1:]))  # take point j out of X\n",
    "        y_ = np.hstack((y[0, :j], y[0, j+1:]))\n",
    "        w = ridge(X_, y_, lmbdas[i])\n",
    "        X_val = np.append(1, X[:, j])\n",
    "        y_val = y[0, j]\n",
    "        y_pre = np.sign(np.dot(w.T, X_val))\n",
    "#         print('y_test:{},  y_pre:{}'.format(y_val, y_pre))\n",
    "        E_val = E_val + 1*(y_val != y_pre)\n",
    "    E_val = E_val / N;\n",
    "    print('E_val:{}   lmbda:{}'.format(E_val, lmbdas[i]))\n",
    "    # Update lmbda according validation error\n",
    "    # begin answer\n",
    "    #     Update lambda according validation error\n",
    "    if E_val < E_val_min:\n",
    "       lmbda = lmbdas[i]\n",
    "       E_val_min = E_val\n",
    "    # end answer\n",
    "\n",
    "print('lambda chosen by LOOCV is {}'.format(lmbda))\n"
   ]
  },
  {
   "cell_type": "code",
   "execution_count": 106,
   "metadata": {
    "scrolled": false
   },
   "outputs": [
    {
     "name": "stderr",
     "output_type": "stream",
     "text": [
      "/home/xushuai/anaconda3/lib/python3.6/site-packages/ipykernel_launcher.py:4: RuntimeWarning: invalid value encountered in true_divide\n",
      "  after removing the cwd from sys.path.\n"
     ]
    },
    {
     "name": "stdout",
     "output_type": "stream",
     "text": [
      "E_train is [0.]\n",
      "E0_train is [0.]\n",
      "sum of wi^2 is [[0.63789814]]\n",
      "sum of w0i^2 is [[1.01018647]]\n"
     ]
    }
   ],
   "source": [
    "from ridge import ridge\n",
    "# Compute training error\n",
    "w = ridge(X, y, lmbda)\n",
    "w_2 = np.sqrt(np.dot(w.T, w))\n",
    "w0 = ridge(X,y, 0)\n",
    "w0_2 = np.sqrt(np.dot(w0.T, w0))\n",
    "\n",
    "num_error = 0\n",
    "num0_error = 0\n",
    "X = np.vstack((np.ones((1, X.shape[1])), X))\n",
    "for i in range(N):\n",
    "    num_error += 1*(np.sign(np.dot(w.T, X[:, i])) != y[0, i])\n",
    "    num0_error += 1*(np.sign(np.dot(w0.T, X[:, i])) != y[0, i])\n",
    "E_train = num_error / N\n",
    "E0_train = num0_error / N\n",
    "print('E_train is {}\\nE0_train is {}'.format(E_train, E0_train))\n",
    "print('sum of wi^2 is {}\\nsum of w0i^2 is {}'.format(w_2, w0_2))"
   ]
  },
  {
   "cell_type": "code",
   "execution_count": 107,
   "metadata": {},
   "outputs": [
    {
     "name": "stdout",
     "output_type": "stream",
     "text": [
      "E_test is [0.105]\n",
      "E0_test is [0.12]\n"
     ]
    },
    {
     "name": "stderr",
     "output_type": "stream",
     "text": [
      "/home/xushuai/anaconda3/lib/python3.6/site-packages/ipykernel_launcher.py:9: RuntimeWarning: divide by zero encountered in true_divide\n",
      "  if __name__ == '__main__':\n",
      "/home/xushuai/anaconda3/lib/python3.6/site-packages/ipykernel_launcher.py:9: RuntimeWarning: invalid value encountered in true_divide\n",
      "  if __name__ == '__main__':\n"
     ]
    }
   ],
   "source": [
    "digit_train = sio.loadmat('digit_train')\n",
    "X = digit_train['X']\n",
    "y = digit_train['y']\n",
    "digit_test = sio.loadmat('digit_test')\n",
    "X_test = digit_test['X_test']\n",
    "y_test = digit_test['y_test']\n",
    "# Do feature normalization to X_test, y_test\n",
    "X_test = X_test - np.mean(X, axis=1).reshape(X_test.shape[0], -1)\n",
    "X_test = X_test /  np.std(X, axis=1).reshape(X_test.shape[0], -1)\n",
    "where_are_nan = np.isnan(X_test)\n",
    "where_are_inf = np.isinf(X_test)\n",
    "X_test[where_are_nan] = 0\n",
    "X_test[where_are_inf] = 0\n",
    "# Compute test error\n",
    "num_error = 0\n",
    "num0_error = 0\n",
    "X_test = np.vstack((np.ones((1, X_test.shape[1])), X_test)) #这里X_test维度变了\n",
    "for i in range(N):\n",
    "    y_pre = np.sign(np.dot(w.T, X_test[:, i]))\n",
    "    y_pre0 = np.sign(np.dot(w0.T, X_test[:, i]))\n",
    "    num_error += 1*(y_pre != y_test[0, i])\n",
    "    num0_error += 1*(y_pre0 != y_test[0, i])\n",
    "#     print('y_pre:{}  y_pre0:{}  y_test:{}'.format(y_pre, y_pre0, y_test[0, i]))\n",
    "E_test = num_error / N\n",
    "E0_test = num0_error / N \n",
    "print('E_test is {}\\nE0_test is {}'.format(E_test, E0_test))"
   ]
  },
  {
   "cell_type": "markdown",
   "metadata": {},
   "source": [
    "### Logistic Regression with Regularization\n",
    "Use the simlimar skeleton code above to implement it."
   ]
  },
  {
   "cell_type": "code",
   "execution_count": 4,
   "metadata": {},
   "outputs": [
    {
     "ename": "NameError",
     "evalue": "name 'lmbdas' is not defined",
     "output_type": "error",
     "traceback": [
      "\u001b[0;31m---------------------------------------------------------------------------\u001b[0m",
      "\u001b[0;31mNameError\u001b[0m                                 Traceback (most recent call last)",
      "\u001b[0;32m<ipython-input-4-87ee1ec9a5d9>\u001b[0m in \u001b[0;36m<module>\u001b[0;34m()\u001b[0m\n\u001b[1;32m     12\u001b[0m \u001b[0mlmbda\u001b[0m \u001b[0;34m=\u001b[0m \u001b[0;36m0\u001b[0m\u001b[0;34m\u001b[0m\u001b[0m\n\u001b[1;32m     13\u001b[0m \u001b[0mE_val_min\u001b[0m \u001b[0;34m=\u001b[0m \u001b[0mfloat\u001b[0m\u001b[0;34m(\u001b[0m\u001b[0;34m'inf'\u001b[0m\u001b[0;34m)\u001b[0m\u001b[0;34m\u001b[0m\u001b[0m\n\u001b[0;32m---> 14\u001b[0;31m \u001b[0;32mfor\u001b[0m \u001b[0mi\u001b[0m \u001b[0;32min\u001b[0m \u001b[0mrange\u001b[0m\u001b[0;34m(\u001b[0m\u001b[0mlen\u001b[0m\u001b[0;34m(\u001b[0m\u001b[0mlmbdas\u001b[0m\u001b[0;34m)\u001b[0m\u001b[0;34m)\u001b[0m\u001b[0;34m:\u001b[0m\u001b[0;34m\u001b[0m\u001b[0m\n\u001b[0m\u001b[1;32m     15\u001b[0m     \u001b[0mE_val\u001b[0m \u001b[0;34m=\u001b[0m \u001b[0;36m0\u001b[0m\u001b[0;34m\u001b[0m\u001b[0m\n\u001b[1;32m     16\u001b[0m     \u001b[0;32mfor\u001b[0m \u001b[0mj\u001b[0m \u001b[0;32min\u001b[0m \u001b[0mrange\u001b[0m\u001b[0;34m(\u001b[0m\u001b[0mX\u001b[0m\u001b[0;34m.\u001b[0m\u001b[0mshape\u001b[0m\u001b[0;34m[\u001b[0m\u001b[0;36m1\u001b[0m\u001b[0;34m]\u001b[0m\u001b[0;34m)\u001b[0m\u001b[0;34m:\u001b[0m\u001b[0;34m\u001b[0m\u001b[0m\n",
      "\u001b[0;31mNameError\u001b[0m: name 'lmbdas' is not defined"
     ]
    }
   ],
   "source": [
    "from logistic_r import logistic_r\n",
    "# axis 等于几，相当于对其哪一维度进行压缩\n",
    "# 使用正则，那么必须先标准化\n",
    "# X = X - np.mean(X, axis=1).reshape(X.shape[0], -1)\n",
    "# X = X / np.std(X, axis=1).reshape(X.shape[0], -1)\n",
    "# where_are_nan = np.isnan(X)\n",
    "# where_are_inf = np.isinf(X)\n",
    "# X[where_are_nan] = 0\n",
    "# X[where_are_inf] = 0\n",
    "# N = X.shape[1]\n",
    "\n",
    "lmbdas = np.array([1e-3, 1e-2, 1e-1, 0, 1, 1e1, 1e2, 1e3])\n",
    "E_val_min = float('inf')\n",
    "for i in range(len(lmbdas)):\n",
    "    E_val = 0\n",
    "    for j in range(X.shape[1]):\n",
    "        X_ = np.hstack((X[:, :j], X[:, j+1:]))  # take point j out of X\n",
    "        y_ = np.hstack((y[0, :j], y[0, j+1:]))\n",
    "        w = logistic_r(X_, y_, lmbdas[i])\n",
    "        X_val = np.append(1, X[:, j])\n",
    "        y_val = y[0, j]\n",
    "        y_pre = np.sign(np.dot(w.T, X_val))\n",
    "        E_val = E_val + 1*(y_val != y_pre)\n",
    "    E_val = E_val / N;\n",
    "    # Update lmbda according validation error\n",
    "    # begin answer\n",
    "    print('E_val:{}   lmbda:{}'.format(E_val, lmbdas[i]))\n",
    "    # Update lmbda according validation error\n",
    "    # begin answer\n",
    "    #     Update lambda according validation error\n",
    "    if E_val < E_val_min:\n",
    "       lmbda = lmbdas[i]\n",
    "       E_val_min = E_val\n",
    "    # end answer\n",
    "\n",
    "print('lambda chosen by LOOCV is {}'.format(lmbda))\n",
    "    # end answer\n",
    "    "
   ]
  },
  {
   "cell_type": "code",
   "execution_count": 99,
   "metadata": {},
   "outputs": [
    {
     "name": "stderr",
     "output_type": "stream",
     "text": [
      "/home/xushuai/anaconda3/lib/python3.6/site-packages/ipykernel_launcher.py:10: RuntimeWarning: invalid value encountered in true_divide\n",
      "  # Remove the CWD from sys.path while we load stuff.\n",
      "/home/xushuai/pythonwork/ipynotebook/ml2018winter_hw2/regularization-cross-validation/logistic_r.py:18: RuntimeWarning: overflow encountered in exp\n",
      "  return 1. / (1 + np.exp(-t))\n"
     ]
    },
    {
     "name": "stdout",
     "output_type": "stream",
     "text": [
      "E_train is [0.]\n",
      "E0_train is [0.]\n",
      "sum of wi^2 is 3.3030886449946966\n",
      "sum of w0i^2 is 83.63259015568909\n"
     ]
    }
   ],
   "source": [
    "digit_train = sio.loadmat('digit_train')\n",
    "X = digit_train['X']\n",
    "y = digit_train['y']\n",
    "digit_test = sio.loadmat('digit_test')\n",
    "X_test = digit_test['X_test']\n",
    "y_test = digit_test['y_test']\n",
    "# axis 等于几，相当于对其哪一维度进行压缩\n",
    "# 使用正则，那么必须先标准化\n",
    "# X = X - np.mean(X, axis=1).reshape(X.shape[0], -1)\n",
    "# X = X / np.std(X, axis=1).reshape(X.shape[0], -1)\n",
    "# where_are_nan = np.isnan(X)\n",
    "# where_are_inf = np.isinf(X)\n",
    "# X[where_are_nan] = 0\n",
    "# X[where_are_inf] = 0\n",
    "# N = X.shape[1]\n",
    "# Compute training error\n",
    "# Compute training error\n",
    "from logistic_r import logistic_r\n",
    "lmbda = 1e-1\n",
    "w = logistic_r(X, y, lmbda)\n",
    "w_2 = np.sqrt(np.sum(np.dot(w[1:].T, w[1:])))\n",
    "w0 = logistic_r(X,y, 0)\n",
    "w0_2 = np.sqrt(np.sum(np.dot(w0[1:].T, w0[1:])))\n",
    "\n",
    "num_error = 0\n",
    "num0_error = 0\n",
    "X = np.vstack((np.ones((1, X.shape[1])), X))\n",
    "for i in range(N):\n",
    "    num_error += 1*(np.sign(np.dot(w.T, X[:, i])) != y[0, i])\n",
    "    num0_error += 1*(np.sign(np.dot(w0.T, X[:, i])) != y[0, i])\n",
    "E_train = num_error / N\n",
    "E0_train = num0_error / N\n",
    "print('E_train is {}\\nE0_train is {}'.format(E_train, E0_train))\n",
    "print('sum of wi^2 is {}\\nsum of w0i^2 is {}'.format(w_2, w0_2))\n"
   ]
  },
  {
   "cell_type": "code",
   "execution_count": 100,
   "metadata": {},
   "outputs": [
    {
     "name": "stdout",
     "output_type": "stream",
     "text": [
      "E_test is [0.095]\n",
      "E0_test is [0.105]\n"
     ]
    },
    {
     "name": "stderr",
     "output_type": "stream",
     "text": [
      "/home/xushuai/anaconda3/lib/python3.6/site-packages/ipykernel_launcher.py:9: RuntimeWarning: divide by zero encountered in true_divide\n",
      "  if __name__ == '__main__':\n",
      "/home/xushuai/anaconda3/lib/python3.6/site-packages/ipykernel_launcher.py:9: RuntimeWarning: invalid value encountered in true_divide\n",
      "  if __name__ == '__main__':\n"
     ]
    }
   ],
   "source": [
    "digit_train = sio.loadmat('digit_train')\n",
    "X = digit_train['X']\n",
    "y = digit_train['y']\n",
    "digit_test = sio.loadmat('digit_test')\n",
    "X_test = digit_test['X_test']\n",
    "y_test = digit_test['y_test']\n",
    "# Do feature normalization to X_test, y_test\n",
    "X_test = X_test - np.mean(X, axis=1).reshape(X_test.shape[0], -1)\n",
    "X_test = X_test /  np.std(X, axis=1).reshape(X_test.shape[0], -1)\n",
    "where_are_nan = np.isnan(X_test)\n",
    "where_are_inf = np.isinf(X_test)\n",
    "X_test[where_are_nan] = 0\n",
    "X_test[where_are_inf] = 0\n",
    "# Compute test error\n",
    "num_error = 0\n",
    "num0_error = 0\n",
    "X_test = np.vstack((np.ones((1, X_test.shape[1])), X_test))\n",
    "for i in range(N):\n",
    "    y_pre = np.sign(np.dot(w.T, X_test[:, i]))\n",
    "    y_pre0 = np.sign(np.dot(w0.T, X_test[:, i]))\n",
    "    num_error += 1*(y_pre != y_test[0, i])\n",
    "    num0_error += 1*(y_pre0 != y_test[0, i])\n",
    "#     print('y_pre:{}  y_pre0:{}  y_test:{}'.format(y_pre, y_pre0, y_test[0, i]))\n",
    "E_test = num_error / N\n",
    "E0_test = num0_error / N \n",
    "print('E_test is {}\\nE0_test is {}'.format(E_test, E0_test))"
   ]
  },
  {
   "cell_type": "code",
   "execution_count": null,
   "metadata": {},
   "outputs": [],
   "source": []
  }
 ],
 "metadata": {
  "kernelspec": {
   "display_name": "Python 3",
   "language": "python",
   "name": "python3"
  },
  "language_info": {
   "codemirror_mode": {
    "name": "ipython",
    "version": 3
   },
   "file_extension": ".py",
   "mimetype": "text/x-python",
   "name": "python",
   "nbconvert_exporter": "python",
   "pygments_lexer": "ipython3",
   "version": "3.6.4"
  }
 },
 "nbformat": 4,
 "nbformat_minor": 2
}
